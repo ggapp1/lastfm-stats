{
  "nbformat": 4,
  "nbformat_minor": 0,
  "metadata": {
    "kernelspec": {
      "display_name": "Python 3",
      "language": "python",
      "name": "python3"
    },
    "language_info": {
      "codemirror_mode": {
        "name": "ipython",
        "version": 3
      },
      "file_extension": ".py",
      "mimetype": "text/x-python",
      "name": "python",
      "nbconvert_exporter": "python",
      "pygments_lexer": "ipython3",
      "version": "3.6.9"
    },
    "colab": {
      "name": "user-stats.ipynb",
      "provenance": []
    }
  },
  "cells": [
    {
      "cell_type": "markdown",
      "metadata": {
        "id": "cF3BhKOJNTkY",
        "colab_type": "text"
      },
      "source": [
        "# User statistics\n",
        "\n",
        "The first step is to choose a user and a period to analyse.  I'm going to choose my own user, buy you're free to change it to any user you want. We'll also load the  lastfm API object."
      ]
    },
    {
      "cell_type": "code",
      "metadata": {
        "id": "qUCaP-JpNTke",
        "colab_type": "code",
        "colab": {}
      },
      "source": [
        "import download_data as dd\n",
        "\n",
        "user = 'gustavog1'\n",
        "last = dd.generate_api_object()\n",
        "period = '7days'"
      ],
      "execution_count": 0,
      "outputs": []
    }
  ]
}